{
 "cells": [
  {
   "cell_type": "code",
   "execution_count": 65,
   "id": "bce945e6",
   "metadata": {},
   "outputs": [],
   "source": [
    "import re\n",
    "import os\n",
    "import math\n",
    "import random\n",
    "\n",
    "from tqdm import tqdm\n",
    "from collections import Counter\n",
    "from itertools import islice"
   ]
  },
  {
   "cell_type": "code",
   "execution_count": 66,
   "id": "9cd3943d",
   "metadata": {},
   "outputs": [],
   "source": [
    "directory = 'corpus2mw'"
   ]
  },
  {
   "cell_type": "markdown",
   "id": "92a7b9e9",
   "metadata": {},
   "source": [
    "# Part I"
   ]
  },
  {
   "cell_type": "code",
   "execution_count": 67,
   "id": "e71e29ee",
   "metadata": {},
   "outputs": [],
   "source": [
    "def preprocess_text(text):\n",
    "    # normalize punctuation\n",
    "    text = text.replace(\"’\", \"'\").replace(\"‘\", \"'\").replace(\"−\", \"-\").replace(\"–\", \"-\").replace(\"—\", \"-\")\n",
    "\n",
    "    # agregate numbers with commas like 4,000–7,000 → 4000_7000\n",
    "    text = re.sub(r'(\\d{1,3}(?:,\\d{3})*)\\s*[-–—]\\s*(\\d{1,3}(?:,\\d{3})*)',\n",
    "                  lambda m: m.group(1).replace(',', '') + '_' + m.group(2).replace(',', ''),\n",
    "                  text)\n",
    "\n",
    "    # remove commas in numbers like 9,500 → 9500\n",
    "    text = re.sub(r'(?<=\\d),(?=\\d)', '', text)\n",
    "\n",
    "    # remove URLs\n",
    "    text = re.sub(r'https?://\\S+|www\\.\\S+', '', text)\n",
    "\n",
    "    # substitute hyphens between words with underscores like \"word-word\" → \"word_word\"\n",
    "    text = re.sub(r\"(?<=\\w)-(?=\\w)\", \"_\", text)\n",
    "\n",
    "    # remove characters that are not letters, numbers, spaces, or underscores\n",
    "    text = re.sub(r\"[^a-zA-Z0-9\\s_áéíóúâêîôûàèìòùãõçÁÉÍÓÚÂÊÎÔÛÀÈÌÒÙÃÕÇ']\", ' ', text)\n",
    "\n",
    "    # normalize spaces\n",
    "    text = re.sub(r'\\s+', ' ', text)\n",
    "\n",
    "    return text.lower().strip()"
   ]
  },
  {
   "cell_type": "code",
   "execution_count": 68,
   "id": "de11d491",
   "metadata": {},
   "outputs": [],
   "source": [
    "def tokenize(text):\n",
    "    return re.findall(r'\\b\\w+\\b', text)"
   ]
  },
  {
   "cell_type": "code",
   "execution_count": 69,
   "id": "930a94d4",
   "metadata": {},
   "outputs": [],
   "source": [
    "def extract_ngrams(tokens, max_n):\n",
    "    result = Counter()\n",
    "\n",
    "    for n in range(1, max_n + 1):\n",
    "        ngrams = zip(*(islice(tokens, i, None) for i in range(n)))\n",
    "        result.update(ngrams)\n",
    "\n",
    "    return result"
   ]
  },
  {
   "cell_type": "code",
   "execution_count": 70,
   "id": "ff1d83d0",
   "metadata": {},
   "outputs": [],
   "source": [
    "\"\"\" \n",
    "    the scores must be contained in the interval [0, 1],\n",
    "    where 0 means no association and 1 means perfect association.\n",
    "\"\"\"\n",
    "def dice_score(ngram, freq, ngrams):\n",
    "    if len(ngram) < 2:\n",
    "        return 0\n",
    "\n",
    "    total = 0\n",
    "    for k in range(1, len(ngram)):\n",
    "        part1 = ngram[:k]\n",
    "        part2 = ngram[k:]\n",
    "        freq1 = ngrams.get(part1, 0)\n",
    "        freq2 = ngrams.get(part2, 0)\n",
    "        total += freq1 + freq2\n",
    "\n",
    "    if total == 0:\n",
    "        return 0\n",
    "\n",
    "    return (freq * 2) / (total / (len(ngram) - 1))"
   ]
  },
  {
   "cell_type": "code",
   "execution_count": 71,
   "id": "a08fe352",
   "metadata": {},
   "outputs": [],
   "source": [
    "\"\"\"\n",
    "    ?\n",
    "\"\"\"\n",
    "def scp_score(ngram, freq, ngrams):\n",
    "    if len(ngram) < 2:\n",
    "        return 0\n",
    "\n",
    "    total = 0\n",
    "    for k in range(1, len(ngram)):\n",
    "        part1 = ngram[:k]\n",
    "        part2 = ngram[k:]\n",
    "        freq1 = ngrams.get(part1, 0)\n",
    "        freq2 = ngrams.get(part2, 0)\n",
    "        total += freq1 * freq2\n",
    "\n",
    "    if total == 0:\n",
    "        return 0\n",
    "\n",
    "    return (freq ** 2) / (total / (len(ngram) - 1))"
   ]
  },
  {
   "cell_type": "code",
   "execution_count": 72,
   "id": "1f82f399",
   "metadata": {},
   "outputs": [],
   "source": [
    "\"\"\"\n",
    "    ?\n",
    "\"\"\"\n",
    "def mi_score(ngram, freq, ngrams, corpus_size):\n",
    "    if len(ngram) < 2:\n",
    "        return 0\n",
    "\n",
    "    total = 0\n",
    "    for k in range(1, len(ngram)):\n",
    "        part1 = ngram[:k]\n",
    "        part2 = ngram[k:]\n",
    "        freq1 = ngrams.get(part1, 0)\n",
    "        freq2 = ngrams.get(part2, 0)\n",
    "        total += (freq1 / corpus_size) * (freq2 / corpus_size)\n",
    "\n",
    "    if total == 0:\n",
    "        return 0\n",
    "\n",
    "    return math.log((freq / corpus_size) / (total / (len(ngram) - 1)))"
   ]
  },
  {
   "cell_type": "code",
<<<<<<< HEAD
   "execution_count": 73,
=======
   "execution_count": 10,
>>>>>>> ee6d7fedf393b38121f5bca57e0753ff79959987
   "id": "794c4d84",
   "metadata": {},
   "outputs": [],
   "source": [
    "\"\"\"\n",
    "    detect relevant ngrams that are local maxima\n",
    "    (those that have a score higher than the scores of their parts)\n",
    "\"\"\"\n",
    "def is_local_max(ngram, score, all_scores):\n",
    "    if len(ngram) < 2:\n",
    "        return False\n",
    "\n",
    "    for k in range(1, len(ngram)):\n",
    "        left = ngram[:k]\n",
    "        right = ngram[k:]\n",
    "        left_score = all_scores.get(left, 0)\n",
    "        right_score = all_scores.get(right, 0)\n",
    "\n",
    "        if score <= max(left_score, right_score):\n",
    "            return False\n",
    "\n",
    "    return True"
   ]
  },
  {
   "cell_type": "code",
<<<<<<< HEAD
   "execution_count": 74,
=======
   "execution_count": 11,
>>>>>>> ee6d7fedf393b38121f5bca57e0753ff79959987
   "id": "223e0718",
   "metadata": {},
   "outputs": [],
   "source": [
    "def extract_res(directory, num_files=None, specific_file=None, metric=\"scp\"):\n",
    "    files = sorted([f for f in os.listdir(directory) if f.startswith('fil_')],\n",
    "                  key=lambda x: int(x.split('_')[1]))\n",
    "    \n",
    "    if specific_file:\n",
    "        files = [specific_file] if specific_file in files else exit(f\"File {specific_file} not found in directory {directory}.\")\n",
    "    elif num_files:\n",
    "        files = files[:num_files]\n",
    "    \n",
    "    results = []\n",
    "    all_tokens = []\n",
    "    all_ngrams = Counter()\n",
    "    \n",
    "    for filename in tqdm(files, desc=\"Extracting REs\"):\n",
    "        with open(os.path.join(directory, filename), 'r', encoding='utf-8') as f:\n",
    "            original = f.read()\n",
    "        \n",
    "        preprocessed = preprocess_text(original)\n",
    "        tokens = tokenize(preprocessed)\n",
    "        ngrams = extract_ngrams(tokens, max_n=7)  # up to 7 words per n-gram\n",
    "        \n",
    "        all_tokens.extend(tokens)\n",
    "        all_ngrams.update(ngrams)\n",
    "\n",
    "    dice_scores = {}\n",
    "    scp_scores = {}\n",
    "    mi_scores = {}\n",
    "\n",
    "    for ngram, freq in all_ngrams.items():\n",
    "        dice_scores[ngram] = dice_score(ngram, freq, all_ngrams)\n",
    "        scp_scores[ngram] = scp_score(ngram, freq, all_ngrams)\n",
    "        mi_scores[ngram] = mi_score(ngram, freq, all_ngrams, len(all_tokens))\n",
    "\n",
    "    local_max_dice_scores = [\n",
    "        (ngram, score) for ngram, score in dice_scores.items()\n",
    "        if is_local_max(ngram, score, dice_scores)\n",
    "    ]\n",
    "\n",
    "    local_max_scp_scores = [\n",
    "        (ngram, score) for ngram, score in scp_scores.items()\n",
    "        if is_local_max(ngram, score, scp_scores)\n",
    "    ]\n",
    "\n",
    "    local_max_mi_scores = [\n",
    "        (ngram, score) for ngram, score in mi_scores.items()\n",
    "        if is_local_max(ngram, score, mi_scores)\n",
    "    ]\n",
    "\n",
    "    results.append({\n",
    "        'dice_scores': sorted(dice_scores.items(), key=lambda x: x[1], reverse=True),\n",
    "        'local_max_dice_scores': sorted(local_max_dice_scores, key=lambda x: x[1], reverse=True),\n",
    "        'scp_scores': sorted(scp_scores.items(), key=lambda x: x[1], reverse=True),\n",
    "        'local_max_scp_scores': sorted(local_max_scp_scores, key=lambda x: x[1], reverse=True),\n",
    "        'mi_scores': sorted(mi_scores.items(), key=lambda x: x[1], reverse=True),\n",
    "        'local_max_mi_scores': sorted(local_max_mi_scores, key=lambda x: x[1], reverse=True)\n",
    "    })\n",
    "\n",
    "    return results"
   ]
  },
  {
   "cell_type": "code",
<<<<<<< HEAD
   "execution_count": 75,
=======
   "execution_count": 12,
>>>>>>> ee6d7fedf393b38121f5bca57e0753ff79959987
   "id": "06d7b1d3",
   "metadata": {},
   "outputs": [
    {
     "name": "stderr",
     "output_type": "stream",
     "text": [
<<<<<<< HEAD
      "Extracting REs: 100%|██████████| 100/100 [00:01<00:00, 87.48it/s]\n"
=======
      "Extracting REs:   0%|          | 0/100 [00:00<?, ?it/s]"
     ]
    },
    {
     "name": "stderr",
     "output_type": "stream",
     "text": [
      "Extracting REs: 100%|██████████| 100/100 [00:04<00:00, 23.52it/s]\n"
>>>>>>> ee6d7fedf393b38121f5bca57e0753ff79959987
     ]
    },
    {
     "name": "stdout",
     "output_type": "stream",
     "text": [
      "Dice Scores:\n",
      "unaided eyesight: 1.0000\n",
      "mwene mbandu: 1.0000\n",
      "lyondthzi kapova: 1.0000\n",
      "dianhenga aspirante: 1.0000\n",
      "aspirante mjinji: 1.0000\n",
      "sultans murad: 1.0000\n",
      "brahmi alphabet: 1.0000\n",
      "urdu kashmiri: 1.0000\n",
      "laos cambodia: 1.0000\n",
      "ldc conferences: 1.0000\n",
      "\n",
      "Local Max Dice Scores:\n",
      "unaided eyesight: 1.0000\n",
      "mwene mbandu: 1.0000\n",
      "lyondthzi kapova: 1.0000\n",
      "dianhenga aspirante: 1.0000\n",
      "aspirante mjinji: 1.0000\n",
      "sultans murad: 1.0000\n",
      "brahmi alphabet: 1.0000\n",
      "urdu kashmiri: 1.0000\n",
      "laos cambodia: 1.0000\n",
      "ldc conferences: 1.0000\n",
      "\n",
      "SCP Scores:\n",
      "unaided eyesight: 1.0000\n",
      "mwene mbandu: 1.0000\n",
      "lyondthzi kapova: 1.0000\n",
      "dianhenga aspirante: 1.0000\n",
      "aspirante mjinji: 1.0000\n",
      "sultans murad: 1.0000\n",
      "brahmi alphabet: 1.0000\n",
      "urdu kashmiri: 1.0000\n",
      "laos cambodia: 1.0000\n",
      "ldc conferences: 1.0000\n",
      "\n",
      "Local Max SCP Scores:\n",
      "unaided eyesight: 1.0000\n",
      "mwene mbandu: 1.0000\n",
      "lyondthzi kapova: 1.0000\n",
      "dianhenga aspirante: 1.0000\n",
      "aspirante mjinji: 1.0000\n",
      "sultans murad: 1.0000\n",
      "brahmi alphabet: 1.0000\n",
      "urdu kashmiri: 1.0000\n",
      "laos cambodia: 1.0000\n",
      "ldc conferences: 1.0000\n",
      "\n",
      "MI Scores:\n",
      "unaided eyesight: 11.9372\n",
      "mwene mbandu: 11.9372\n",
      "lyondthzi kapova: 11.9372\n",
      "dianhenga aspirante: 11.9372\n",
      "aspirante mjinji: 11.9372\n",
      "sultans murad: 11.9372\n",
      "brahmi alphabet: 11.9372\n",
      "urdu kashmiri: 11.9372\n",
      "laos cambodia: 11.9372\n",
      "ldc conferences: 11.9372\n",
      "\n",
      "Local Max MI Scores:\n",
      "unaided eyesight: 11.9372\n",
      "mwene mbandu: 11.9372\n",
      "lyondthzi kapova: 11.9372\n",
      "dianhenga aspirante: 11.9372\n",
      "aspirante mjinji: 11.9372\n",
      "sultans murad: 11.9372\n",
      "brahmi alphabet: 11.9372\n",
      "urdu kashmiri: 11.9372\n",
      "laos cambodia: 11.9372\n",
      "ldc conferences: 11.9372\n"
     ]
    }
   ],
   "source": [
    "# process a specific file\n",
    "#results = process_scores_localmax(directory, specific_file='fil_2')[0]\n",
    "# or process a limited number of files\n",
    "results = extract_res(directory, num_files=100)[0]\n",
    "# or process all files\n",
    "#results = process_scores_localmax(directory)[0]\n",
    "\n",
    "print(\"Dice Scores:\")\n",
    "for ngram, score in results['dice_scores'][:10]:\n",
    "    print(f\"{' '.join(ngram)}: {score:.4f}\")\n",
    "\n",
    "print(\"\\nLocal Max Dice Scores:\")\n",
    "for ngram, score in results['local_max_dice_scores'][:10]:\n",
    "    print(f\"{' '.join(ngram)}: {score:.4f}\")\n",
    "\n",
    "print(\"\\nSCP Scores:\")\n",
    "for ngram, score in results['scp_scores'][:10]:\n",
    "    print(f\"{' '.join(ngram)}: {score:.4f}\")\n",
    "\n",
    "print(\"\\nLocal Max SCP Scores:\")\n",
    "for ngram, score in results['local_max_scp_scores'][:10]:\n",
    "    print(f\"{' '.join(ngram)}: {score:.4f}\")\n",
    "\n",
    "print(\"\\nMI Scores:\")\n",
    "for ngram, score in results['mi_scores'][:10]:\n",
    "    print(f\"{' '.join(ngram)}: {score:.4f}\")\n",
    "\n",
    "print(\"\\nLocal Max MI Scores:\")\n",
    "for ngram, score in results['local_max_mi_scores'][:10]:\n",
    "    print(f\"{' '.join(ngram)}: {score:.4f}\")"
   ]
  },
  {
   "cell_type": "markdown",
   "id": "06450139",
   "metadata": {},
   "source": [
    "## Precision"
   ]
  },
  {
   "cell_type": "code",
<<<<<<< HEAD
   "execution_count": 76,
=======
   "execution_count": 13,
>>>>>>> ee6d7fedf393b38121f5bca57e0753ff79959987
   "id": "b28c4f63",
   "metadata": {},
   "outputs": [],
   "source": [
    "def precision_evaluation(candidates, sample_size):\n",
    "    return random.sample(candidates, min(sample_size, len(candidates)))"
   ]
  },
  {
   "cell_type": "code",
<<<<<<< HEAD
   "execution_count": 77,
=======
   "execution_count": 19,
>>>>>>> ee6d7fedf393b38121f5bca57e0753ff79959987
   "id": "bebf45fc",
   "metadata": {},
   "outputs": [],
   "source": [
    "precision_sample = precision_evaluation(results['local_max_dice_scores'], 10)\n",
    "#precision_sample = precision_evaluation(results['local_max_scp_scores'], 10)\n",
    "#precision_sample = precision_evaluation(results['local_max_mi_scores'], 10)\n",
    "\n",
    "with open('precision_sample.txt', 'w', encoding='utf-8') as f:\n",
    "    for i, (ngram, score) in enumerate(precision_sample, 1):\n",
    "        phrase = ' '.join(ngram)\n",
    "        f.write(f\"{phrase} | Score: {score:.4f} | Annotation: TP / FP\\n\")\n",
    "\n",
    "# after the creation of the precision sample file we need to edit it manually\n",
    "# writting TP (valid) or FP (not valid) for each relevant expression"
   ]
  },
  {
   "cell_type": "code",
<<<<<<< HEAD
   "execution_count": 78,
=======
   "execution_count": 20,
>>>>>>> ee6d7fedf393b38121f5bca57e0753ff79959987
   "id": "fac215fc",
   "metadata": {},
   "outputs": [],
   "source": [
    "def calculate_precision(file):\n",
    "    valid = 0\n",
    "    total = 0\n",
    "    \n",
    "    with open(file, 'r', encoding='utf-8') as f:\n",
    "        for line in f:\n",
    "            if line.strip().endswith('TP'):\n",
    "                valid += 1\n",
    "            total += 1\n",
    "    \n",
    "    return valid / total if total > 0 else 0"
   ]
  },
  {
   "cell_type": "code",
<<<<<<< HEAD
   "execution_count": 79,
=======
   "execution_count": 21,
>>>>>>> ee6d7fedf393b38121f5bca57e0753ff79959987
   "id": "c0d2fe6e",
   "metadata": {},
   "outputs": [
    {
     "data": {
      "text/plain": [
<<<<<<< HEAD
       "0.0"
      ]
     },
     "execution_count": 79,
=======
       "0.9"
      ]
     },
     "execution_count": 21,
>>>>>>> ee6d7fedf393b38121f5bca57e0753ff79959987
     "metadata": {},
     "output_type": "execute_result"
    }
   ],
   "source": [
    "calculate_precision('precision_sample.txt')"
   ]
  },
  {
   "cell_type": "markdown",
   "id": "493446ec",
   "metadata": {},
   "source": [
    "## Recall"
   ]
  },
  {
   "cell_type": "code",
<<<<<<< HEAD
   "execution_count": 80,
=======
   "execution_count": 22,
>>>>>>> ee6d7fedf393b38121f5bca57e0753ff79959987
   "id": "2841aa38",
   "metadata": {},
   "outputs": [],
   "source": [
    "def extract_paragraphs(directory, num_paragraphs, max_files=None):\n",
    "    files = sorted([f for f in os.listdir(directory) if f.startswith('fil_')],\n",
    "                  key=lambda x: int(x.split('_')[1]))\n",
    "    \n",
    "    if max_files:\n",
    "        files = files[:max_files]\n",
    "    \n",
    "    all_paragraphs = []\n",
    "    \n",
    "    for filename in files:\n",
    "        with open(os.path.join(directory, filename), 'r', encoding='utf-8') as f:\n",
    "            text = f.read()\n",
    "        \n",
    "        paragraphs = [p.strip() for p in text.split('\\n\\n') if p.strip()]\n",
    "        all_paragraphs.extend(paragraphs)\n",
    "    \n",
    "    return random.sample(all_paragraphs, min(num_paragraphs, len(all_paragraphs)))"
   ]
  },
  {
   "cell_type": "code",
<<<<<<< HEAD
   "execution_count": 81,
=======
   "execution_count": 25,
>>>>>>> ee6d7fedf393b38121f5bca57e0753ff79959987
   "id": "116ae739",
   "metadata": {},
   "outputs": [
    {
     "name": "stdout",
     "output_type": "stream",
     "text": [
      "Paragraph 1:\n",
<<<<<<< HEAD
      "ENSO may be linked to civil conflicts. Scientists at The Earth Institute of Columbia University, having analyzed data from 1950 to 2004, suggest ENSO may have had a role in 21% of all civil conflicts since 1950, with the risk of annual civil conflict doubling from 3% to 6% in countries affected by ENSO during El Niño years relative to La Niña years.\n",
      "Thus it is even smaller than the next correction term formula_31 of Stirling's formula.\n",
      "==================================================\n",
      "\n",
      "Paragraph 2:\n",
      "The blue crane (\"Anthropoides paradiseus\"), also known as the Stanley crane and the paradise crane, is the national bird of South Africa.\n",
      "Note that phenolic resin products are apt to swell slightly if they are used in areas that are perpetually damp. Varnishing the product helps to prevent this.\n",
      "In the mid-2000s (decade) Juan Francisco Casas generated Internet attention for a series of large-scale, photo-realistic ballpoint duplications of his own snapshots of friends, utilising only blue pens.\n",
      "That said, overlap of sexual preference disorders and the practice of BDSM practices can occur.\n",
      "The largest sport hub in the city is Tofig Bahramov Stadium with 31,200 seating capacity. The city's three main football clubs are Neftchi Baku, FC Baku and Inter Baku of whom first has eight Premier League titles making Neftchi the most successful Azerbaijani football club. Baku also has several football clubs in the premier and regional leagues, including AZAL in Premier League. The Baku Olympic Stadium, a planned 65,000 seat football stadium, is currently under construction and will be based on Boyuk Shor settlement.\n",
      "To the south, HMS \"Bellerophon\" was in serious trouble as the huge broadside of \"Orient\" pounded the ship. At 19:50 the mizen mast and main mast both collapsed and fires broke out simultaneously at several points. Although the blazes were extinguished, the ship had suffered more than 200 casualties. Captain Darby recognised that his position was untenable and ordered the anchor cables cut at 20:20. The battered ship drifted away from the battle under continued fire from \"Tonnant\" as the foremast collapsed as well. \"Orient\" had also suffered significant damage and Admiral Brueys had been struck in the midriff by a cannonball that almost cut him in half. He died fifteen minutes later, remaining on deck and refusing to be carried below. \"Orient\"'s captain, Luc-Julien-Joseph Casabianca, was also wounded, struck in the face by flying debris and knocked unconscious, while his twelve-year-old son had a leg torn off by a cannonball as he stood beside his father. The most southerly British ship, \"Majestic\", had become briefly entangled with the 80-gun \"Tonnant\", and in the resulting battle, suffered heavy casualties. Captain George Blagdon Westcott was among the dead, killed by French musket fire. Lieutenant Robert Cuthbert assumed command and successfully disentangled his ship, allowing the badly damaged \"Majestic\" to drift further southwards so that by 20:30 it was stationed between \"Tonnant\" and the next in line, \"Heureux\", engaging both. To support the centre, Captain Thompson of \"Leander\" abandoned the futile efforts to drag the stranded \"Culloden\" off the shoal and sailed down the embattled French line, entering the gap created by the drifting \"Peuple Souverain\" and opening a fierce raking fire on \"Franklin\" and \"Orient\".\n",
      "==================================================\n",
      "\n",
      "Paragraph 3:\n",
      "Similar organisations in other countries.\n",
      "In approving the Balfour Declaration, Leopold Amery, one of the Secretaries to the British War Cabinet of 1917–18, testified under oath to the Anglo-American Committee of Inquiry in January 1946 from his personal knowledge that:\n",
      "Confederate retreat.\n",
      "During May–June 1991, Euronymous of Mayhem opened an independent record shop named \"Helvete\" (Norwegian for 'hell') in Oslo. It quickly became the focal point of Norway's emerging black metal scene and a meeting place for many of its musicians; especially the members of Mayhem, Burzum, Emperor and Thorns. Jon 'Metalion' Kristiansen, writer of the fanzine \"Slayer\", said that the opening of Helvete was \"the creation of the whole Norwegian Black Metal scene\". In its basement, Euronymous founded an independent record label named Deathlike Silence Productions. With the rising popularity of his band and others like it, the underground success of Euronymous's label is often credited for encouraging other record labels, who had previously shunned black metal acts, to then reconsider and release their material.\n",
      "Basel is located at the meeting point of France, Germany and Switzerland; because it is so near other countries and is beyond the Jura Mountains, many within the Swiss military reportedly believe that the city is indefensible during wartime. It has numerous road and rail crossings between Switzerland and the other two countries. With Switzerland joining the Schengen Area on December 12, 2008, immigration checks were no longer carried out at the crossings. However, Switzerland did not join the EU customs regime and customs checks are still conducted at or near the crossings.\n",
      "All team members, both officer and enlisted, pilots and staff officers, come from the ranks of regular Navy and United States Marine Corps units. The demonstration pilots and narrator are made up of Navy and USMC Naval Aviators. Pilots serve two to three years, and position assignments are made according to team needs, pilot experience levels, and career considerations for members.\n",
      "Bixby was executive producer of the three \"Hulk\" made-for-television sequel movies in the late 1980s and in 1990. He also directed the latter two.\n",
      "==================================================\n",
      "\n",
      "Paragraph 4:\n",
      "Possible reflexes in Insular Celtic.\n",
      "Chimpanzees use a variety of facial expressions, postures and sounds to communicate with each other. Chimps have expressive faces which are important in close-up communications. When frightened, a \"full closed grin\" causes nearby individuals to be fearful, as well. Other facial expressions include the \"lip flip\", \"pout\", \"sneer\", and \"compressed-lips face\". When submitting to a conspecific, a chimp will crunch, bob and extend a hand. When in an aggressive mode, a chimp will swagger bipedally, hunched over and arms waving, in an attempt to exaggerate its size. Chimps will beat their hands and feet against the trunks of large tree, an act known as \"drumming\".\n",
      "because each of the basis vectors is a constant.\n",
      "Rhodesia.\n",
      "In 1977, Giorgio Moroder again became responsible for a development in disco. Alongside Donna Summer and Pete Bellotte he wrote the song \"I Feel Love\" for Summer to perform. It became the first well-known disco hit to have a completely synthesised backing track. The song is still considered to have been well ahead of its time. Other disco producers, most famously Tom Moulton, grabbed ideas and techniques from dub music (which came with the increased Jamaican migration to New York City in the seventies) to provide alternatives to the four on the floor style that dominated. Larry Levan utilized style keys from dub and jazz and more as one of the most successful remixers of all time to create early versions of house music that sparked the genre.\n",
      "Even from this fleeting moment of independence democracy began to unravel. On 5 July 1960 a military mutiny by Congolese soldiers against their European officers broke out in the capital and rampant looting began. On 11 July 1960 the richest province of the country, Katanga, seceded under Moise Tshombe. The United Nations sent 20,000 peacekeepers to protect Europeans in the country and try to restore order. Western paramilitaries and mercenaries, often hired by mining companies to protect their interests, also began to pour into the country. In this same period Congo's second richest province, Kasai, also announced its independence on 8 August 1960.\n",
      "Djiboutian Navy.\n",
      "Krāslava, Daugavpils, Līvāni, Jēkabpils, Pļaviņas, Aizkraukle, Jaunjelgava, Lielvārde, Kegums, Ogre, Ikšķile, Salaspils and Riga.\n",
      "History.\n",
=======
      "B2B operations require special CRM solutions that are not the same as for the B2C industry:\n",
      "Upon presentation of \"The Ray\" in 1728, he was admitted to the Académie Royale de Peinture et de Sculpture. The following year he ceded his position in the Académie de Saint-Luc. He made a modest living by \"produc paintings in the various genres at whatever price his customers chose to pay him\", and by such work as the restoration of the frescoes at the Galerie François I at Fontainebleau in 1731.\n",
      "Before mating, males and females may engage in various forms of behavior. They may stridulate, or vibrate the objects they are on. In some species (for example, Meloidae), the male climbs onto the dorsum of the female and strokes his antennae on her head, palps, and antennae. In the genus \"Eupompha\" of said family, the male draws the antennae along his longitudinal vertex. They may not mate at all if they do not perform the precopulatory ritual.\n",
      "Christian Doppler\n",
      "In 1996 Tramtrack Croydon Limited (TCL) won a 99-year Private Finance Initiative (PFI) contract to design, build, operate and maintain Tramlink. TCL was a partnership comprising First Group, Bombardier Transportation (the builders of the system's trams), Sir Robert McAlpine and Amey (who built the system), and Royal Bank of Scotland and 3i (who arranged the finances). TCL kept the revenue generated by Tramlink and LRT had to pay compensation to TCL for any changes to the fares and ticketing policy introduced later.\n",
      "Croydon covers an area of 86.52 km2, the 256th largest district in England. Croydon's physical features consist of many hills and rivers that are spread out across the borough and into the North Downs, Surrey and the rest of South London. Addington Hills is a major hilly area to the south of London and is recognised as a significant obstacle to the growth of London from its origins as a port on the north side of the river, to a large circular city. The Great North Wood is a former natural oak forest that covered the Sydenham Ridge and the southern reaches of the River Effra and its tributaries. The most notable tree, called Vicar's Oak, marked the boundary of four ancient parishes; Lambeth, Camberwell, Croydon and Bromley. John Aubrey referred to this \"ancient remarkable tree\" in the past tense as early as 1718, but according to JB Wilson, the Vicar's Oak survived until 1825. The River Wandle is also a major tributary of the River Thames, where it stretches to Wandsworth and Putney for from its main source in Waddon.\n",
      "Visual Representations.\n",
      "Central Africa.\n",
      "Naming complexes.\n",
      "Weaver perceived and addressed this problem, in at least a preliminary way, in drawing a distinction between \"disorganized complexity\" and \"organized complexity\".\n",
      "Vulnerable areas.\n",
      "In other media.\n",
      "In 1525, Cortés took Cuauhtémoc and several other indigenous nobles on his expedition to Honduras, fearing that Cuauhtémoc could have led an insurrection in his absence. While the expedition was stopped in the Chontal Maya capital of Itzamkanac, known as Acalan in Nahuatl, Cortés had Cuauhtémoc executed for allegedly conspiring to kill him and the other Spaniards.\n",
      "Classical heat calculation with respect to pressure.\n",
      "As a medium of expression.\n",
      "Epidemiology.\n",
      "With this Chaucer avoids targeting any specific audience or social class of readers, focusing instead on the characters of the story and writing their tales with a skill proportional to their social status and learning. However, even the lowest characters, such as the Miller, show surprising rhetorical ability, although their subject matter is more lowbrow. Vocabulary also plays an important part, as those of the higher classes refer to a woman as a \"lady\", while the lower classes use the word \"wenche\", with no exceptions. At times the same word will mean entirely different things between classes. The word \"pitee\", for example, is a noble concept to the upper classes, while in the \"Merchant's Tale\" it refers to sexual intercourse. Again, however, tales such as the \"Nun's Priest's Tale\" show surprising skill with words among the lower classes of the group, while the \"Knight's Tale\" is at times extremely simple.\n",
      "Directional screen.\n",
      "==================================================\n",
      "\n",
      "Paragraph 2:\n",
      "Greek Christian scribes played a crucial role in the preservation of Aristotle by copying all the extant Greek language manuscripts of the corpus. The first Greek Christians to comment extensively on Aristotle were John Philoponus, Elias, and David in the sixth century, and Stephen of Alexandria in the early seventh century. John Philoponus stands out for having attempted a fundamental critique of Aristotle's views on the eternity of the world, movement, and other elements of Aristotelian thought. After a hiatus of several centuries, formal commentary by Eustratius and Michael of Ephesus reappears in the late eleventh and early twelfth centuries, apparently sponsored by Anna Comnena.\n",
      "ASCII codes represent text in computers, communications equipment, and other devices that use text. Most modern character-encoding schemes are based on ASCII, though they support many additional characters.\n",
      "Energy.\n",
      "The wording of the arraignment varies from jurisdiction to jurisdiction. However, it generally conforms with the following principles:\n",
      "The discipline of anatomy is divided into macroscopic and microscopic anatomy. Macroscopic anatomy, or gross anatomy, is the examination of an animal’s body parts using unaided eyesight. Gross anatomy also includes the branch of superficial anatomy. Microscopic anatomy involves the use of optical instruments in the study of the tissues of various structures, known as histology and also in the study of cells.\n",
      "The Portuguese were present in some – mostly coastal – points of the territory of what is now Angola, from the 16th to the 19th century, interacting in diverse ways with the peoples who lived there. In the 19th century, they slowly and hesitantly began to establish themselves in the interior. Angola as a Portuguese colony encompassing the present territory was not established before the end of the 19th century, and \"effective occupation\", as required by the Berlin Conference (1884) was achieved only by the 1920s after the Mbunda resistance and abduction of their King, Mwene Mbandu I Lyondthzi Kapova. Independence was achieved in 1975, after a protracted liberation war. After independence, Angola was the scene of an intense civil war from 1975 to 2002. Despite the civil war, areas such as Baixa de Cassanje continue a lineage of kings which have included the former King Kambamba Kulaxingo and current King Dianhenga Aspirante Mjinji Kulaxingo.\n",
      "At the dawn of the establishment of the Ottoman Empire in Southeast Europe, the geopolitical landscape was marked by scattered kingdoms of small principalities. The Ottomans erected their garrisons throughout southern Albania by 1415 and established formal jurisdiction over most of Albania by 1431. However, on 1443 a great and longstanding revolt broke under the lead of the Albanian national hero Skanderbeg, which lasted until 1479, many times defeating major Ottoman armies led by sultans Murad II and Mehmed II. Skanderbeg united initially the Albanian princes and later established a centralized authority over most of the non-conquered territories, becoming Lord of Albania. He also tried relentlessly but rather unsuccessfully to create a European coalition against the Ottomans. He frustrated every attempt by the Turks to regain Albania, which they envisioned as a springboard for the invasion of Italy and western Europe. His unequal fight against the mightiest power of the time won the esteem of Europe as well as some support in the form of money and military aid from Naples, the papacy, Venice, and Ragusa.\n",
      "<doc id=\"772\" url=\"http://en.wikipedia.org/wiki?curid=772\" title=\"Ampere\">\n",
      "Bibliography\n",
      "A possible etymology is a derivation from the Greek word \"\" – \"aiges\" = \"\"waves\"\" (Hesychius of Alexandria; metaphorical use of (\"aix\") \"goat\"), hence \"wavy sea\", cf. also (aigialos = aiges \"(waves)\" + hals \"(sea)\"), hence meaning \"sea-shore\".\n",
      "Finance.\n",
      "Indic scripts originated in India and spread to Southeast Asia. All surviving Indic scripts are descendants of the Brahmi alphabet. Today they are used in most languages of South Asia (although replaced by Perso-Arabic in Urdu, Kashmiri and some other languages of Pakistan and India) and mainland Southeast Asia (Burma, Thailand, Laos, Cambodia; but not Malaysia or Vietnam). The primary division is into North Indic scripts used in Northern India, Nepal, Tibet and Bhutan, and Southern Indic scripts used in South India, Sri Lanka and Southeast Asia.\n",
      "Spectrometer.\n",
      "Azincourt is famous as being near the site of the battle fought on 25 October 1415 in which the army led by King Henry V of England defeated the forces led by Charles d'Albret on behalf of Charles VI of France, which has gone down in English history as the Battle of Agincourt. According to M. Forrest, the French knights were so encumbered by their armour that they were exhausted even before the start of the battle.\n",
      "For some citizens, exile was a feeling more difficult to pin down. They simply desired a reunion with something that could hardly be named but which seemed to them to be the most desirable thing on Earth. Some called it peace. Rieux numbers Tarrou among such people, although he found it only in death.\n",
      "The beginning of competition.\n",
      "A formula for calculating an unbiased estimate of the population variance from a finite sample of \"n\" observations is:\n",
      "Transportation routes and energy lines.\n",
      "Though the title \"abbot\" is not given in the Western Church to any but actual abbots of monasteries today, the title archimandrite is given to \"monastics\" (i.e., celibate) priests in the East, even when not attached to a monastery, as an honor for service, similar to the title of monsignor in the Western/Latin Rite of the Roman Catholic Church. In the Orthodox Church, only actual monastics are permitted to be elevated to the rank of Archimandrite. Married priests are elevated to the parallel rank of Archpriest or Protopresbyter. Normally there are no celibate priests who are not monastics in the Orthodox Church, with the exception of married priests who have been widowed. Since the time of Catherine II the ranks of Abbot and Archimandrite have been given as honorary titles in the Russian Church, and may be given to any monastic, even if he does not in fact serve as the superior of a monastery. In Greek practice the title or function of Abbot corresponds to a person who actually serves as the head of a monastery, although the title of the Archimandrite may be given to any celibate priest who could serve as the head of a monastery.\n",
      "Developing Thelema.\n",
      "World War II produced alternate history for propaganda: both British and American authors wrote works depicting Nazi invasions of their respective countries as cautionary tales.\n",
      "Athens has hosted the Summer Olympic Games twice, in 1896 and 2004. The 2004 Summer Olympics required the development of the Athens Olympic Stadium, which has since gained a reputation as one of the most beautiful stadiums in the world, and one of its most interesting modern monuments. The biggest stadium in the country, it hosted two finals of the UEFA Champions League, in 1994 and 2007. Athens' other major stadium, located in the Piraeus area, is the Karaiskakis Stadium, a sports and entertainment complex, host of the 1971 UEFA Cup Winners' Cup Final. In 2004 Greece's national soccer team won the UEFA Cup Finals in Portugal. In the final tie they beat the host nation Portugal 1:0.\n",
      "UN LDC Conferences.\n",
      "The current leader is Roger Chartier, who is Directeur d'Études at the École des Hautes Études en Sciences Sociales in Paris, Professeur in the Collège de France, and Annenberg Visiting Professor of History at the University of Pennsylvania. He frequently lectures and teaches in the United States, Spain, Mexico, Brazil and Argentina. His work in Early Modern European History focuses on the history of education, the history of the book and the history of reading. Recently, he has been concerned with the relationship between written culture as a whole and literature (particularly theatrical plays) for France, England and Spain. His work in this specific field (based on the criss-crossing between literary criticism, bibliography, and sociocultural history) is connected to broader historiographical and methodological interests which deal with the relation between history and other disciplines: philosophy, sociology, anthropology. \n",
      "With the advent of surrealism as a poetic movement, anagrams regained the artistic respect they had had in the Baroque period. The German poet Unica Zürn, who made extensive use of anagram techniques, came to regard obsession with anagrams as a \"dangerous fever\", because it created isolation of the author. The surrealist leader André Breton coined the anagram \"Avida Dollars\" for Salvador Dalí, to tarnish his reputation by the implication of commercialism.\n",
      "Essentially, 1 Kings 16:29 through 20:40 is the story of Ahab's reign. This reign is one which faces opposition from several prophets of Yahweh throughout as well as various consequences because of his marriage to Jezebel, because of his worship of Baal, disobedience to prophetic warnings and words, and also because of the murder of Naboth. The murder of Naboth (see Jezebel), an act of royal encroachment, stirred up popular resentment just as the new cult aroused the opposition of the Israelite prophets, including Elijah and Micaiah. Indeed, he is referred to, for this and other things, as being \"more evil than all the kings before him\" (1 Kings 16:30). The followers of Yahweh found their champion in Elijah; his denunciation of the royal dynasty of Israel and his emphatic insistence on the worship of Yahweh and Yahweh alone, illustrated by the contest between Yahweh and Baal on Mount Carmel (1 Kings 18), form the keynote to a period which culminated in the accession of Jehu, an event in which Elijah's chosen disciple Elisha was the leading figure.\n",
      "At an undetermined date, a great clearance of temple offerings had been made and a modern discovery of a chamber into which they were gathered has yielded the fine ivory carvings and the glazed figures and tiles that show the splendid work of the first dynasty. A vase of Menes with purple hieroglyphs inlaid into a green glaze and tiles with relief figures are the most important pieces found. The noble statuette of Cheops in ivory, found in the stone chamber of the temple, gives the only portrait of this great pharaoh.\n",
      "NYSE MKT\n",
      "Four adverse events associated with moxibustion were bruising, burns and cellulitis, spinal epidural abscess, and large superficial basal cell carcinoma. Ten adverse events were associated with cupping. The minor ones were keloid scarring, burns, and bullae; the serious ones were acquired hemophilia A, stroke following cupping on the back and neck, factitious panniculitis, reversible cardiac hypertrophy, and iron deficiency anemia.\n",
      "Albertus Magnus, O.P. (before 1200 – November 15, 1280), also known as Albert the Great and Albert of Cologne, is a Catholic saint. He was a German Dominican friar and a Catholic bishop. He was known during his lifetime as \"doctor universalis\" and \"doctor expertus\" and, late in his life, the term \"magnus\" was appended to his name. Scholars such as James A. Weisheipl and Joachim R. Söder have referred to him as the greatest German philosopher and theologian of the Middle Ages. The Catholic Church honours him as a Doctor of the Church, one of only 35 so honoured.\n",
      "Jackson's service in the War of 1812 against the United Kingdom was conspicuous for bravery and success. When British forces threatened New Orleans, Jackson took command of the defenses, including militia from several western states and territories. He was a strict officer but was popular with his troops. They said he was \"tough as old hickory\" wood on the battlefield, and he acquired the nickname of \"Old Hickory\". In the Battle of New Orleans on January 8, 1815, Jackson's 5,000 soldiers won a decisive victory over 7,500 British. At the end of the battle, the British had 2,037 casualties: 291 dead (including three senior generals), 1,262 wounded, and 484 captured or missing. The Americans had 71 casualties: 13 dead, 39 wounded, and 19 missing.\n",
      "Algiers was a walled city from the time of the deys until the close of the 19th century. The French, after their occupation of the city (1830), built a rampart, parapet and ditch, with two terminal forts, Bab Azoun باب عزون to the south and Bab-el-Oued باب الواد to the north. The forts and part of the ramparts were demolished at the beginning of the 20th century, when a line of forts occupying the heights of Bouzareah بوزريعة (at an elevation of above the sea) took their place.\n",
      "The total volume of water discharging from the Amazon river in a year is about 6,591 cubic kilometers (to compare, the water volume of Lake Baikal is 23,615 cubic km).\n",
      "The newly elected Pope Honorius III called on Andrew to depart for the Holy Land to fulfill his crusader oath in July 1216. On this occasion, Andrew, who had at least three times (in 1201, 1209 and 1213) postponed to began his crusade, decided to depart for the Holy Land. Steven Runciman, Tibor Almási and other modern historians say that Andrew hoped that his decision would promote his election as Latin Emperor of Constantinople after the death of his wife's uncle, Emperor Henry in June 1216. According to a letter of 1217 of Pope Honorius, envoys from the Latin Empire had in fact informed Andrew of their plan of electing either him or his father-in-law, Peter of Courtenay, but no other contemporaneous source mentioned this proposal. The barons of the Latin Empire elected Peter of Courtenay emperor in summer 1216.\n",
      "Soviet Union.\n",
      "Agathocles was married three times. His first wife was the widow of his patron Damas by whom he had two sons: Archagathus and Agathocles, whom were both murdered in 307 BC. His second wife was Alcia and they had a daughter called Lanassa, who married as the second wife of King Pyrrhus of Epirus. His third wife was the Greek Ptolemaic Princess Theoxena, who was the second daughter of Berenice I from her first husband Philip and was a stepdaughter of Ptolemy I Soter. Theoxena bore Agathocles two children: Archagathus and Theoxena. Theoxena survived Agathocles. He had further descendants from his second and third marriage.\n",
      "Amalric II of Jerusalem\n",
      "Autoantigens.\n",
      "A second financial issue is that of hedging oil and fuel purchases, which are usually second only to labor in its relative cost to the company. However, with the current high fuel prices it has become the largest cost to an airline. Legacy airlines, compared with new entrants, have been hit harder by rising fuel prices partly due to the running of older, less fuel efficient aircraft. While hedging instruments can be expensive, they can easily pay for themselves many times over in periods of increasing fuel costs, such as in the 2000–2005 period.\n",
      "Technicians at the Kennedy Space Center had many problems with the SIM bay in the Service Module. It was the first time it had flown and experienced problems from the start. Problems came from the fact the instruments were designed to operate in zero gravity, but had to be tested in the 1 g on the surface of the Earth. As such, things like the 7.5 m booms for the mass and gamma ray spectrometers could only be tested using railings that tried to mimic the space environment, and so they never worked particularly well. When the technicians tried to integrate the entire bay into the rest of the spacecraft, data streams would not synchronize, and lead investigators of the instruments would want to make last minute checks and changes. When it came time to test the operation of the gamma-ray spectrometer, it was necessary to stop every engine within of the test site.\n",
      "Highways.\n",
      "The source of \"Agnes Grey\"'s renewed interest in poetry is, however, the curate to whom she is attracted. William Weightman aroused much curiosity. It seems clear he was a good-looking, engaging young man, whose easy humour and kindness towards the sisters made a considerable impression. It is such a character that she portrays in Edward Weston, and that her heroine Agnes Grey finds deeply appealing.\n",
      "Ann Arbor's crime rate was below the national average in 2000. The violent crime rate was further below the national average than the property crime rate; the two rates were 48% and 11% lower than the U.S. average, respectively.\n",
      "Employment.\n",
      "Chinese and East-Asian.\n",
      "By the end of World War II, most modern armies had vehicles to carry infantry, artillery and anti-aircraft weaponry . Most modern AFVs are superficially similar in design to their World War II counterparts, but with significantly better armour, weapons, engines and suspension. The increase in the capacity of transport aircraft has allowed AFVs to be practically transported by air. Many armies are replacing some or all of their traditional heavy vehicles with lighter airmobile versions, often with wheels instead of tracks.\n",
      "In Plato's myth, Poseidon fell in love with Cleito, the daughter of Evenor and Leucippe, who bore him five pairs of male twins. The eldest of these, Atlas, was made rightful king of the entire island and the ocean (called the Atlantic Ocean in his honor), and was given the mountain of his birth and the surrounding area as his fiefdom. Atlas's twin Gadeirus, or Eumelus in Greek, was given the extremity of the island towards the pillars of Hercules. The other four pairs of twins—Ampheres and Evaemon, Mneseus and Autochthon, Elasippus and Mestor, and Azaes and Diaprepes—were also given \"rule over many men, and a large territory.\"\n",
      "Anglo-Saxon may refer to: \n",
      "In March, John escaped from Constance disguised as a postman. According to the Klingenberger Chronicle, written by a noble client of Frederick IV, Duke of Austria, John XXIII travelled down the Rhine to Schaffhausen in a boat, while Frederick accompanied him with a small band of men on horseback. There was a huge outcry in Constance when it was discovered that John had fled, and Sigismund was furious about this setback to his plans for ending the Schism. The King of the Romans issued orders to all the powers on the Upper Rhine and in Swabia stating that he had declared Frederick to be an outlaw and that his lands and possessions were forfeit. In due course this led to a great deal of political upheaval and many Austrian losses in the region, notably in Aargau to the Swiss Confederation.\n",
      "Although variations of the blood supply to the adrenal glands (and indeed the kidneys themselves) are common, there are usually three arteries that supply each adrenal gland:\n",
      "<doc id=\"2343\" url=\"http://en.wikipedia.org/wiki?curid=2343\" title=\"Adventism\">\n",
      "There are various physical interfaces (connectors); see Compatibility section.\n",
      "In the course of time and during their development, adhesives have gained a stable position in an increasing number of production processes. There is hardly any product in our surroundings that does not contain at least one adhesive – be it the label on a beverage bottle, protective coatings on automobiles or profiles on window frames. Market researchers forecast a turnover of almost US$50 billion for the global adhesives market in 2019. Especially the dynamic economic development in emerging countries such as China, India, Russia or Brazil will cause a rising demand for adhesives in the future.\n",
      "Aurangzeb received the embassy of Abbas II of Persia in 1660 and returned them with gifts. However relations between the Mughal Empire and the Safavid dynasty were tense because the Persians attacked the Mughal army positioned near Kandahar. Aurangzeb prepared his armies in the Indus River Basin for a counteroffensive, but Abbas II's death in 1666 caused Aurangzeb to end all hostilities. Aurangzeb's rebellious son, Sultan Muhammad Akbar, sought refuge with Suleiman I of Persia, who had rescued the him from the Imam of Musqat and later refused to assist him in any military adventures against Aurangzeb.\n",
      "The farmland of the canton of Aargau is some of the most fertile in Switzerland. Dairy farming, cereal and fruit farming are among the canton's main economic activities. The canton is also industrially developed, particularly in the fields of electrical engineering, precision instruments, iron, steel, cement and textiles.\n",
      "On Arnulf's death, he was succeeded as a king of the East Franks by his son by his wife Ota (died 903), Louis the Child. When his only legitimate son, Louis the Child, died in 911 at age 17 or 18, the eastern (German) branch of the house of Charlemagne ceased to exist. Arnulf had the nobility also recognize the rights of his illegitimate sons Zwentibold and Ratold as his successors. Zwentibold, whom he had made King of Lotharingia in 895, continued to rule there until the next year (900).\n",
      "Standard-setters.\n",
      "By road, the city is accessible from National Route NR194 from Bastia and NR193 via NR196 from Bonifacio.\n",
      "Sports.\n",
      "At the beginning of the 21st century, the population structure of Andalusia shows a clear inversion of the population pyramid, with the largest cohorts falling between ages 25 and 50. Comparison of the population pyramid in 2008 to that in 1986 shows:\n",
      "Another common usage is to refer to the specification version by the fastest mode supported. For example, ATA-4 supported Ultra DMA modes 0 through 2, the latter providing a maximum transfer rate of 33 megabytes per second. ATA-4 drives are thus sometimes called \"UDMA-33\" drives, and sometimes \"ATA-33\" drives. Similarly, ATA-6 introduced a maximum transfer speed of 100 megabytes per second, and some drives complying to this version of the standard are marketed as \"PATA/100\" drives.\n",
      "Aron Nimzowitsch (, , \"Aron Isayevich Nimtsovich\"; born Aron Niemzowitsch; 7 November 1886 – 16 March 1935) was a Russian-born, Danish leading chess master and a very influential chess writer. He was the foremost figure amongst the \"hypermoderns\".\n",
      "E-mail advertising is another recent phenomenon. Unsolicited bulk E-mail advertising is known as \"e-mail spam\". Spam has been a problem for e-mail users for many years.\n",
      "<doc id=\"2911\" url=\"http://en.wikipedia.org/wiki?curid=2911\" title=\"Amr Diab\">\n",
      "The second subset of bases is also called an \"Arrhenius base\".\n",
      "A large proportion of amputees (50–80%) experience the phenomenon of phantom limbs; they feel body parts that are no longer there. These limbs can itch, ache, burn, feel tense, dry or wet, locked in or trapped or they can feel as if they are moving. Some scientists believe it has to do with a kind of neural map that the brain has of the body, which sends information to the rest of the brain about limbs regardless of their existence. Phantom sensations and phantom pain may also occur after the removal of body parts other than the limbs, e.g. after amputation of the breast, extraction of a tooth (phantom tooth pain) or removal of an eye (phantom eye syndrome).\n",
      "An acid–base reaction is, thus, the removal of a hydrogen ion from the acid and its addition to the base. The removal of a hydrogen ion from an acid produces its \"conjugate base\", which is the acid with a hydrogen ion removed. The reception of a proton by a base produces its \"conjugate acid\", which is the base with a hydrogen ion added.\n",
      "ABC Radio Australia is an international shortwave, satellite and internet radio service with transmissions aimed at East Asia and the Pacific Islands, although its signals are also audible in many other parts of the world. It features programmes in various languages spoken in these regions, including Mandarin, Indonesian, Vietnamese, Khmer and Tok Pisin.\n",
      "Zubaydah's mental health.\n",
      "Serie A:\n",
      "Saint Pope Pius X said in a letter to philosopher-friend and correspondent in the closing years of his life, (Epist. lxxi, ad Max.): \"Let what was confessed by the fathers of Nicaea prevail\".\n",
      "Oxidative damage in DNA can cause cancer. Several antioxidant enzymes such as superoxide dismutase, catalase, glutathione peroxidase, glutathione reductase, glutathione S-transferase etc. protect DNA from oxidative stress. It has been proposed that polymorphisms in these enzymes are associated with DNA damage and subsequently the individual's risk of cancer susceptibility.\n",
      "Blues performers such as John Lee Hooker and Muddy Waters continued to perform to enthusiastic audiences, inspiring new artists steeped in traditional blues, such as New York–born Taj Mahal. John Lee Hooker blended his blues style with rock elements and playing with younger white musicians, creating a musical style that can be heard on the 1971 album \"Endless Boogie\". B. B. King's virtuoso guitar technique earned him the eponymous title \"king of the blues\".\n",
      "Beryllium is found in over 100 minerals, but most are uncommon to rare. The more common beryllium containing minerals include: bertrandite (Be4Si2O7(OH)2), beryl (Al2Be3Si6O18), chrysoberyl (Al2BeO4) and phenakite (Be2SiO4). Precious forms of beryl are aquamarine, red beryl and emerald. \n",
      "Bridge types by use.\n",
      "Some BBSes, called elite, WaReZ or pirate boards, were exclusively used for distributing pirated software, phreaking, and other questionable or unlawful content. These BBSes often had multiple modems and phone lines, allowing several users to upload and download files at once. Most elite BBSes used some form of new user verification, where new users would have to apply for membership and attempt to prove that they were not a law enforcement officer or a \"lamer.\" The largest elite boards accepted users by invitation only. Elite boards also spawned their own subculture and gave rise to the slang known today as leetspeak.\n",
      "Bassas da India\n",
      "Bosnia and Herzegovina was the world champion of volleyball at the 2004 Summer Paralympics and volleyball at the 2012 Summer Paralympics. Many among those on the team lost their legs in the Bosnian War.\n",
      "The United States Embassy in Sarajevo, Bosnia and Herzegovina produces the Country Commercial Guide – an annual report that delivers a comprehensive look at Bosnia and Herzegovina's commercial and economic environment, using economic, political, and market analysis. It can be viewed on Embassy Sarajevo's website.\n",
      "<doc id=\"3654\" url=\"http://en.wikipedia.org/wiki?curid=3654\" title=\"Transport in the British Virgin Islands\">\n",
      "The constitution and law provide for the right to privacy, but the government does not always respect this right in practice. Authorities do not always respect the law requiring search warrants.\n",
      "Modern Basque dialectology distinguishes five dialects:\n",
      "Berkelium(III) ions shows two sharp fluorescence peaks at 652 nanometers (red light) and 742 nanometers (deep red – near infrared) due to internal transitions at the f-electron shell. The relative intensity of these peaks depends on the excitation power and temperature of the sample. This emission can be observed, for example, after dispersing berkelium ions in a silicate glass, by melting the glass in presence of berkelium oxide or halide.\n",
      "Books\n",
      "Various instruments in Africa, chief among them the kora, feature a skin head and gourd (or similar shell) body. The African instruments differ from early African American banjos in that the necks do not possess a Western-style fingerboard and tuning pegs, instead having stick necks, with strings attached to the neck with loops for tuning. Banjos with fingerboards and tuning pegs are known from the Caribbean as early as the 17th century. 18th- and early 19th-century writers transcribed the name of these instruments variously as \"bangie\", \"banza\", \"banjer\", and \"banjar\". Instruments similar to the banjo (e.g., the Japanese \"shamisen\", Persian \"tar\", and Moroccan \"sintir\") have been played in many countries. Another likely banjo ancestor is the \"akonting\", a spike folk lute played by the Jola tribe of Senegambia, and the \"ubaw-akwala\" of the Igbo. Similar instruments include the \"xalam\" of Senegal and the \"ngoni\" of the Wassoulou region including parts of Mali, Guinea, and Côte d'Ivoire, as well as a larger variation of the \"ngoni\" developed in Morocco by sub-Saharan Africans known as the \"gimbri\".\n",
      "Balkans and Bulgaria.\n",
      "External binary operations.\n",
      "Greater Latter Day Saint movement.\n",
      "Nearly all trick-taking techniques in bridge can be reduced to one of these four methods. The optimum play of the cards can require much thought and experience and is the subject of whole books on bridge.\n",
      "Beginning March 22, 2014, Watterson is exhibiting again at the Billy Ireland Cartoon Library & Museum at Ohio State University. In conjunction with this exhibition, Watterson also participated in an interview with the school.\n",
      "Apart from this description Baldr is known primarily for the story of his death. His death is seen as the first in the chain of events which will ultimately lead to the destruction of the gods at Ragnarök. Baldr will be reborn in the new world, according to \"Völuspá\".\n",
      "Osteology.\n",
      "Finite verbal forms are \"simple\" or \"compound\" and agree with subjects in person (first, second and third) and number (singular, plural) in Bulgarian. In addition to that, past compound forms using participles vary in gender (masculine, feminine, neuter) and voice (active and passive) as well as aspect (perfective/aorist and imperfective).\n",
      "The form of English most commonly associated with the upper class in the southern counties of England is called Received Pronunciation (RP). It derives from a mixture of the Midland and Southern dialects which were spoken in London in the early modern period and is frequently used as a model for teaching English to foreign learners. Although speakers from elsewhere in England may not speak with an RP accent, it is now a class dialect more than a local dialect. It may also be referred to as \"the Queen's (or King's) English\", \"Public School English\", \"Posh\" or \"BBC English\" as this was originally the form of English used on radio and television, although a wider variety of accents can be heard these days. About 2% of Britons speak RP, and it has evolved quite markedly over the last 40 years.\n",
      "Over the past few decades rapid developments in genomic and other molecular research technologies and developments in information technologies have combined to produce a tremendous amount of information related to molecular biology. Bioinformatics is the name given to these mathematical and computing approaches used to glean understanding of biological processes.\n",
      "Games to a specified number of ends may also be drawn. The draw may stand, or the opponents may be required to play an extra end to decide the winner. These provisions are always published beforehand in the event's Conditions of Play.\n",
      "2014.\n",
      "Operations.\n",
      "The Orioles have a burgeoning regional rivalry with the nearby Washington Nationals nicknamed the Beltway Series or Battle Of The Beltways. Baltimore currently leads the series with a 26-20 record over the Nationals.\n",
      "From medieval times, \"beagle\" was used as a generic description for the smaller hounds, though these dogs differed considerably from the modern breed. Miniature breeds of beagle-type dogs were known from the times of Edward II and Henry VII, who both had packs of Glove Beagles, so named since they were small enough to fit on a glove, and Queen Elizabeth I kept a breed known as a Pocket Beagle, which stood at the shoulder. Small enough to fit in a \"pocket\" or saddlebag, they rode along on the hunt. The larger hounds would run the prey to ground, then the hunters would release the small dogs to continue the chase through underbrush. Elizabeth I referred to the dogs as her \"singing beagles\" and often entertained guests at her royal table by letting her Pocket Beagles cavort amid their plates and cups. 19th-century sources refer to these breeds interchangeably and it is possible that the two names refer to the same small variety. In George Jesse's \"Researches into the History of the British Dog\" from 1866, the early 17th-century poet and writer Gervase Markham is quoted referring to the Beagle as small enough to sit on a man's hand and to the:\n",
      "In 2009 \"VIP Brother 3 Bulgaria\" introduced the concept of celebrities competing for charitable causes, sometimes allowed to leave the house to raise money for the charity (which changed each week).\n",
>>>>>>> ee6d7fedf393b38121f5bca57e0753ff79959987
      "==================================================\n",
      "\n",
      "Paragraph 3:\n",
      "Possible reflexes in Insular Celtic.\n",
      "Chimpanzees use a variety of facial expressions, postures and sounds to communicate with each other. Chimps have expressive faces which are important in close-up communications. When frightened, a \"full closed grin\" causes nearby individuals to be fearful, as well. Other facial expressions include the \"lip flip\", \"pout\", \"sneer\", and \"compressed-lips face\". When submitting to a conspecific, a chimp will crunch, bob and extend a hand. When in an aggressive mode, a chimp will swagger bipedally, hunched over and arms waving, in an attempt to exaggerate its size. Chimps will beat their hands and feet against the trunks of large tree, an act known as \"drumming\".\n",
      "because each of the basis vectors is a constant.\n",
      "Rhodesia.\n",
      "In 1977, Giorgio Moroder again became responsible for a development in disco. Alongside Donna Summer and Pete Bellotte he wrote the song \"I Feel Love\" for Summer to perform. It became the first well-known disco hit to have a completely synthesised backing track. The song is still considered to have been well ahead of its time. Other disco producers, most famously Tom Moulton, grabbed ideas and techniques from dub music (which came with the increased Jamaican migration to New York City in the seventies) to provide alternatives to the four on the floor style that dominated. Larry Levan utilized style keys from dub and jazz and more as one of the most successful remixers of all time to create early versions of house music that sparked the genre.\n",
      "Even from this fleeting moment of independence democracy began to unravel. On 5 July 1960 a military mutiny by Congolese soldiers against their European officers broke out in the capital and rampant looting began. On 11 July 1960 the richest province of the country, Katanga, seceded under Moise Tshombe. The United Nations sent 20,000 peacekeepers to protect Europeans in the country and try to restore order. Western paramilitaries and mercenaries, often hired by mining companies to protect their interests, also began to pour into the country. In this same period Congo's second richest province, Kasai, also announced its independence on 8 August 1960.\n",
      "Djiboutian Navy.\n",
      "Krāslava, Daugavpils, Līvāni, Jēkabpils, Pļaviņas, Aizkraukle, Jaunjelgava, Lielvārde, Kegums, Ogre, Ikšķile, Salaspils and Riga.\n",
      "History.\n",
      "==================================================\n",
      "\n",
      "Paragraph 4:\n",
      "Similar organisations in other countries.\n",
      "In approving the Balfour Declaration, Leopold Amery, one of the Secretaries to the British War Cabinet of 1917–18, testified under oath to the Anglo-American Committee of Inquiry in January 1946 from his personal knowledge that:\n",
      "Confederate retreat.\n",
      "During May–June 1991, Euronymous of Mayhem opened an independent record shop named \"Helvete\" (Norwegian for 'hell') in Oslo. It quickly became the focal point of Norway's emerging black metal scene and a meeting place for many of its musicians; especially the members of Mayhem, Burzum, Emperor and Thorns. Jon 'Metalion' Kristiansen, writer of the fanzine \"Slayer\", said that the opening of Helvete was \"the creation of the whole Norwegian Black Metal scene\". In its basement, Euronymous founded an independent record label named Deathlike Silence Productions. With the rising popularity of his band and others like it, the underground success of Euronymous's label is often credited for encouraging other record labels, who had previously shunned black metal acts, to then reconsider and release their material.\n",
      "Basel is located at the meeting point of France, Germany and Switzerland; because it is so near other countries and is beyond the Jura Mountains, many within the Swiss military reportedly believe that the city is indefensible during wartime. It has numerous road and rail crossings between Switzerland and the other two countries. With Switzerland joining the Schengen Area on December 12, 2008, immigration checks were no longer carried out at the crossings. However, Switzerland did not join the EU customs regime and customs checks are still conducted at or near the crossings.\n",
      "All team members, both officer and enlisted, pilots and staff officers, come from the ranks of regular Navy and United States Marine Corps units. The demonstration pilots and narrator are made up of Navy and USMC Naval Aviators. Pilots serve two to three years, and position assignments are made according to team needs, pilot experience levels, and career considerations for members.\n",
      "Bixby was executive producer of the three \"Hulk\" made-for-television sequel movies in the late 1980s and in 1990. He also directed the latter two.\n",
      "==================================================\n",
      "\n"
     ]
    }
   ],
   "source": [
    "paragraphs_sample = extract_paragraphs(directory, 4, max_files=5)\n",
    "\n",
    "for i, paragraph in enumerate(paragraphs_sample, 1):\n",
    "    print(f\"Paragraph {i}:\\n{paragraph}\\n{'='*50}\\n\")\n",
    "\n",
    "# after getting the paragraphs sample, we need to create the file recall_sample.txt\n",
    "# and write the relevant expressions found in each paragraph manually"
   ]
  },
  {
   "cell_type": "code",
<<<<<<< HEAD
   "execution_count": 82,
=======
   "execution_count": 26,
>>>>>>> ee6d7fedf393b38121f5bca57e0753ff79959987
   "id": "9f62df85",
   "metadata": {},
   "outputs": [],
   "source": [
    "def calculate_recall(file, candidates):\n",
    "    with open(file, 'r', encoding='utf-8') as f:\n",
    "        manual_expressions = set(line.strip() for line in f if line.strip())\n",
    "    \n",
    "    candidates_expressions = set(' '.join(ngram) for ngram, _ in candidates)\n",
    "    \n",
    "    matches = 0\n",
    "    for expression in manual_expressions:\n",
    "        if expression.lower() in candidates_expressions:\n",
    "            matches += 1\n",
    "    \n",
    "    return matches / len(manual_expressions) if manual_expressions else 0"
   ]
  },
  {
   "cell_type": "code",
<<<<<<< HEAD
   "execution_count": 83,
=======
   "execution_count": 29,
>>>>>>> ee6d7fedf393b38121f5bca57e0753ff79959987
   "id": "fc55ddf4",
   "metadata": {},
   "outputs": [
    {
     "data": {
      "text/plain": [
<<<<<<< HEAD
       "0.4"
      ]
     },
     "execution_count": 83,
=======
       "0.5"
      ]
     },
     "execution_count": 29,
>>>>>>> ee6d7fedf393b38121f5bca57e0753ff79959987
     "metadata": {},
     "output_type": "execute_result"
    }
   ],
   "source": [
    "calculate_recall('recall_sample.txt', results['local_max_dice_scores'])"
   ]
  },
  {
   "cell_type": "code",
   "execution_count": 84,
   "id": "c7543655",
   "metadata": {},
   "outputs": [
    {
     "data": {
      "text/plain": [
       "0.6"
      ]
     },
     "execution_count": 84,
     "metadata": {},
     "output_type": "execute_result"
    }
   ],
   "source": [
    "calculate_recall('recall_sample.txt', results['local_max_scp_scores'])"
   ]
  },
  {
   "cell_type": "code",
   "execution_count": 85,
   "id": "ac83877f",
   "metadata": {},
   "outputs": [
    {
     "data": {
      "text/plain": [
       "0.8"
      ]
     },
     "execution_count": 85,
     "metadata": {},
     "output_type": "execute_result"
    }
   ],
   "source": [
    "calculate_recall('recall_sample.txt', results['local_max_mi_scores'])"
   ]
  },
  {
   "cell_type": "markdown",
   "id": "7aaa3649",
   "metadata": {},
   "source": [
    "# Part II"
   ]
  },
  {
   "cell_type": "code",
   "execution_count": 86,
   "id": "fbed5b19",
   "metadata": {},
   "outputs": [],
   "source": [
    "# Extract top-N explicit keywords per document using LocalMaxs + SCP scores\n",
    "def extract_explicit_keywords_per_doc(directory, num_files=None, top_n=15):\n",
    "    files = sorted([f for f in os.listdir(directory) if f.startswith('fil_')],\n",
    "                   key=lambda x: int(x.split('_')[1]))\n",
    "    \n",
    "    if num_files:\n",
    "        files = files[:num_files]\n",
    "\n",
    "    explicit_keywords = []\n",
    "\n",
    "    for filename in files:\n",
    "        results = extract_res(directory, specific_file=filename)[0]\n",
    "        local_max_scores = results['local_max_scp_scores']\n",
    "        top_terms = [ngram for ngram, score in local_max_scores[:top_n]]\n",
    "        explicit_keywords.append(top_terms)\n",
    "\n",
    "    return explicit_keywords"
   ]
  },
  {
   "cell_type": "code",
   "execution_count": 87,
   "id": "b085eb3b",
   "metadata": {},
   "outputs": [],
   "source": [
    "# Get term frequencies and token count per document\n",
    "def get_term_frequencies(directory, num_files=None):\n",
    "    files = sorted([f for f in os.listdir(directory) if f.startswith('fil_')],\n",
    "                   key=lambda x: int(x.split('_')[1]))\n",
    "    \n",
    "    if num_files:\n",
    "        files = files[:num_files]\n",
    "\n",
    "    freqs = []\n",
    "    total_tokens = []\n",
    "\n",
    "    for filename in files:\n",
    "        with open(os.path.join(directory, filename), 'r', encoding='utf-8') as f:\n",
    "            text = f.read()\n",
    "\n",
    "        preprocessed = preprocess_text(text)\n",
    "        tokens = tokenize(preprocessed)\n",
    "        total_tokens.append(len(tokens))\n",
    "\n",
    "        ngrams = extract_ngrams(tokens, max_n=7)\n",
    "        freqs.append(ngrams)\n",
    "\n",
    "    return freqs, total_tokens"
   ]
  },
  {
   "cell_type": "code",
   "execution_count": 88,
   "id": "43106599",
   "metadata": {},
   "outputs": [],
   "source": [
    "# Calculate probabilities P(T,d) and P(T,D)\n",
    "def calculate_probabilities(freqs, total_tokens):\n",
    "    num_docs = len(freqs)\n",
    "    all_terms = set()\n",
    "    for doc_freq in freqs:\n",
    "        all_terms.update(doc_freq.keys())\n",
    "\n",
    "    P_T_d = [{} for _ in range(num_docs)]\n",
    "    P_T_D = {}\n",
    "\n",
    "    for d, doc_freq in enumerate(freqs):\n",
    "        total = total_tokens[d]\n",
    "        for term in all_terms:\n",
    "            freq = doc_freq.get(term, 0)\n",
    "            P_T_d[d][term] = freq / total if total > 0 else 0\n",
    "\n",
    "    for term in all_terms:\n",
    "        sum_p = sum(P_T_d[d][term] for d in range(num_docs))\n",
    "        P_T_D[term] = sum_p / num_docs\n",
    "\n",
    "    return P_T_d, P_T_D"
   ]
  },
  {
   "cell_type": "code",
   "execution_count": 89,
   "id": "7c660414",
   "metadata": {},
   "outputs": [],
   "source": [
    "# Statistical correlation between terms\n",
    "def covariance(term1, term2, P_T_d, P_T_D):\n",
    "    num_docs = len(P_T_d)\n",
    "    s = 0\n",
    "    for d in range(num_docs):\n",
    "        s += (P_T_d[d].get(term1, 0) - P_T_D.get(term1, 0)) * (P_T_d[d].get(term2, 0) - P_T_D.get(term2, 0))\n",
    "    return s / num_docs\n",
    "\n",
    "def correlation(term1, term2, P_T_d, P_T_D):\n",
    "    cov_12 = covariance(term1, term2, P_T_d, P_T_D)\n",
    "    cov_11 = covariance(term1, term1, P_T_d, P_T_D)\n",
    "    cov_22 = covariance(term2, term2, P_T_d, P_T_D)\n",
    "\n",
    "    denom = math.sqrt(cov_11) * math.sqrt(cov_22)\n",
    "    if denom == 0:\n",
    "        return 0\n",
    "    return cov_12 / denom"
   ]
  },
  {
   "cell_type": "code",
   "execution_count": 90,
   "id": "0eb64399",
   "metadata": {},
   "outputs": [],
   "source": [
    "# Score and rank implicit terms by correlation to explicit ones\n",
    "def calculate_implicit_scores(explicit_keywords, P_T_d, P_T_D, min_doc_occurrences=2):\n",
    "    num_docs = len(explicit_keywords)\n",
    "    implicit_scores_per_doc = []\n",
    "\n",
    "    all_terms = list(P_T_D.keys())\n",
    "    candidate_terms = [\n",
    "        term for term in all_terms\n",
    "        if sum(1 for d in range(num_docs) if P_T_d[d].get(term, 0) > 0) >= min_doc_occurrences\n",
    "    ]\n",
    "\n",
    "    for d in tqdm(range(num_docs), desc=\"Calculating implicits\"):\n",
    "        explicit = set(explicit_keywords[d])\n",
    "        scores = {}\n",
    "\n",
    "        for T in candidate_terms:\n",
    "            if T in explicit:\n",
    "                continue\n",
    "\n",
    "            corr_sum = 0\n",
    "            count = 0\n",
    "\n",
    "            for K in explicit:\n",
    "                c = correlation(T, K, P_T_d, P_T_D)\n",
    "                corr_sum += c\n",
    "                count += 1\n",
    "\n",
    "            scores[T] = corr_sum / count if count > 0 else 0\n",
    "\n",
    "        implicit_scores_per_doc.append(scores)\n",
    "\n",
    "    return implicit_scores_per_doc"
   ]
  },
  {
   "cell_type": "code",
   "execution_count": 105,
   "id": "805aa41a",
   "metadata": {},
   "outputs": [
    {
     "name": "stderr",
     "output_type": "stream",
     "text": [
      "Extracting REs:   0%|          | 0/1 [00:00<?, ?it/s]"
     ]
    },
    {
     "name": "stderr",
     "output_type": "stream",
     "text": [
      "Extracting REs: 100%|██████████| 1/1 [00:00<00:00,  5.67it/s]\n",
      "Extracting REs: 100%|██████████| 1/1 [00:00<00:00, 331.67it/s]\n",
      "Extracting REs: 100%|██████████| 1/1 [00:00<00:00, 73.65it/s]\n",
      "Extracting REs: 100%|██████████| 1/1 [00:00<00:00, 499.80it/s]\n",
      "Extracting REs: 100%|██████████| 1/1 [00:00<00:00, 83.41it/s]\n",
      "Extracting REs: 100%|██████████| 1/1 [00:00<00:00, 219.34it/s]\n",
      "Extracting REs: 100%|██████████| 1/1 [00:00<00:00, 55.55it/s]\n",
      "Extracting REs: 100%|██████████| 1/1 [00:00<00:00, 82.83it/s]\n",
      "Extracting REs: 100%|██████████| 1/1 [00:00<00:00, 166.92it/s]\n",
      "Extracting REs: 100%|██████████| 1/1 [00:00<00:00, 91.38it/s]\n",
      "Calculating implicits: 100%|██████████| 10/10 [00:05<00:00,  1.83it/s]\n"
     ]
    }
   ],
   "source": [
    "explicit_keywords = extract_explicit_keywords_per_doc(directory, num_files=10, top_n=10)\n",
    "\n",
    "freqs, total_tokens = get_term_frequencies(directory, num_files=10)\n",
    "\n",
    "P_T_d, P_T_D = calculate_probabilities(freqs, total_tokens)\n",
    "\n",
    "implicit_scores = calculate_implicit_scores(explicit_keywords, P_T_d, P_T_D)"
   ]
  },
  {
   "cell_type": "code",
   "execution_count": 106,
   "id": "51526673",
   "metadata": {},
   "outputs": [],
   "source": [
    "doc_to_test = 1"
   ]
  },
  {
   "cell_type": "markdown",
   "id": "c4033bd6",
   "metadata": {},
   "source": [
    "Explicit Expression"
   ]
  },
  {
   "cell_type": "code",
   "execution_count": 107,
   "id": "8070c4b3",
   "metadata": {},
   "outputs": [
    {
     "name": "stdout",
     "output_type": "stream",
     "text": [
      "Top Explicit Expressions (Doc 1):\n",
      "christian scribes\n",
      "crucial role\n",
      "language manuscripts\n",
      "comment extensively\n",
      "stands out\n",
      "fundamental critique\n",
      "ephesus reappears\n",
      "apparently sponsored\n",
      "anna comnena\n",
      "codes represent\n"
     ]
    }
   ],
   "source": [
    "print(f\"Top Explicit Expressions (Doc {doc_to_test}):\")\n",
    "for term in explicit_keywords[doc_to_test-1]:\n",
    "    print(' '.join(term) if isinstance(term, tuple) else term)"
   ]
  },
  {
   "cell_type": "markdown",
   "id": "e0face95",
   "metadata": {},
   "source": [
    "Implicit Expressions"
   ]
  },
  {
   "cell_type": "code",
   "execution_count": 108,
   "id": "7b3b325a",
   "metadata": {},
   "outputs": [
    {
     "name": "stdout",
     "output_type": "stream",
     "text": [
      "Top Implicit Expressions (Doc 1):\n",
      "\"ii\" (score=0.985)\n",
      "\"instruments\" (score=0.980)\n",
      "\"rate\" (score=0.945)\n",
      "\"users\" (score=0.945)\n",
      "\"the title\" (score=0.943)\n",
      "\"the beginning of\" (score=0.919)\n",
      "\"the beginning\" (score=0.919)\n",
      "\"beginning of\" (score=0.919)\n",
      "\"hydrogen\" (score=0.916)\n",
      "\"removal\" (score=0.916)\n"
     ]
    }
   ],
   "source": [
    "top_implicit = sorted(implicit_scores[doc_to_test-1].items(), key=lambda x: x[1], reverse=True)[:10]\n",
    "print(f\"Top Implicit Expressions (Doc {doc_to_test}):\")\n",
    "for term, score in top_implicit:\n",
    "    expression = \" \".join(term)\n",
    "    print(f'\"{expression}\" (score={score:.3f})')"
   ]
  }
 ],
 "metadata": {
  "kernelspec": {
   "display_name": "base",
   "language": "python",
   "name": "python3"
  },
  "language_info": {
   "codemirror_mode": {
    "name": "ipython",
    "version": 3
   },
   "file_extension": ".py",
   "mimetype": "text/x-python",
   "name": "python",
   "nbconvert_exporter": "python",
   "pygments_lexer": "ipython3",
   "version": "3.11.5"
  }
 },
 "nbformat": 4,
 "nbformat_minor": 5
}
